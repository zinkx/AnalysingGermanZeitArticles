{
 "cells": [
  {
   "cell_type": "markdown",
   "metadata": {},
   "source": [
    "## Data Collection"
   ]
  },
  {
   "cell_type": "markdown",
   "metadata": {},
   "source": [
    "We gather all text data from the Zeit API available and save it to json files"
   ]
  },
  {
   "cell_type": "code",
   "execution_count": 4,
   "metadata": {},
   "outputs": [],
   "source": [
    "import requests\n",
    "import json"
   ]
  },
  {
   "cell_type": "code",
   "execution_count": null,
   "metadata": {},
   "outputs": [],
   "source": [
    "host = \"http://api.zeit.de\"\n",
    "payload = {'limit' : 1000,\n",
    "          'offset' : 1000,\n",
    "          'api_key': '',\n",
    "          'fields' : 'title release_date subtitle snippet supertitle teaser_title teaser_text'}"
   ]
  },
  {
   "cell_type": "code",
   "execution_count": null,
   "metadata": {},
   "outputs": [],
   "source": [
    "for i in range(1,518):\n",
    "    response = requests.get(host+\"/content\", params = payload)\n",
    "    with open(str(payload['offset'])+'.json','w',encoding='utf-8') as f:\n",
    "        f.write(response.text)\n",
    "    offset = i*1000\n",
    "    payload['offset']= offset"
   ]
  },
  {
   "cell_type": "markdown",
   "metadata": {},
   "source": [
    "Devide the data into epochs:\n",
    "- 1946 to 1960: Nachkriegszeit und Anfänge DDR vor Mauerbau\n",
    "- 1960 to 1990: Mauer\n",
    "- 1990 to 2000: Nach der Wende\n",
    "- 2000 to 2010: 2000er\n",
    "- 2010 to 2021: 2010er, Anfang 2020er"
   ]
  },
  {
   "cell_type": "code",
   "execution_count": 5,
   "metadata": {},
   "outputs": [],
   "source": [
    "#1946 to 1960\n",
    "file_Anfang_0 = 517000\n",
    "file_Ende_0 = 477000\n",
    "#1960 to 1990\n",
    "file_Anfang_1 = 476000\n",
    "file_Ende_1 = 319000\n",
    "#1990 to 2000\n",
    "file_Anfang_2 = 318000\n",
    "file_Ende_2 = 257000\n",
    "#2000 to 2010\n",
    "file_Anfang_3 = 256000\n",
    "file_Ende_3 = 183000\n",
    "#2010 to 2021\n",
    "file_Anfang_4 = 182000\n",
    "file_Ende_4 = 0"
   ]
  },
  {
   "cell_type": "markdown",
   "metadata": {},
   "source": [
    "Define scheme for merging json files"
   ]
  },
  {
   "cell_type": "code",
   "execution_count": 7,
   "metadata": {},
   "outputs": [],
   "source": [
    "from jsonmerge import Merger\n",
    "schema = {\n",
    "    \"properties\":{\n",
    "        \"matches\":{\n",
    "            \"mergeStrategy\": \"append\"\n",
    "        }\n",
    "    }\n",
    "}\n",
    "merger = Merger(schema)\n"
   ]
  },
  {
   "cell_type": "code",
   "execution_count": 8,
   "metadata": {},
   "outputs": [],
   "source": [
    "def merge_files(Anfangs_File_Id, Ende_File_Id, Anfang_Epoche, Ende_Epoche):\n",
    "    with open(str(Ende_File_Id) + '.json' ) as f:\n",
    "        data = json.load(f)\n",
    "\n",
    "    for i in range(Ende_File_Id,Anfangs_File_Id+1000, 1000):\n",
    "        with open('%d.json' %i) as f:\n",
    "          data_ = json.load(f)\n",
    "        result = merger.merge(data,data_)\n",
    "        data = result\n",
    "\n",
    "    with open(str(Anfang_Epoche)+\"_\"+str(Ende_Epoche)+\".json\", \"w\") as outfile:\n",
    "        json.dump(data, outfile)"
   ]
  },
  {
   "cell_type": "code",
   "execution_count": null,
   "metadata": {},
   "outputs": [],
   "source": [
    "merge_files(file_Anfang_0, file_Ende_0, 1946, 1960)\n",
    "merge_files(file_Anfang_1, file_Ende_1, 1960, 1990)\n",
    "merge_files(file_Anfang_2, file_Ende_2, 1990, 2000)\n",
    "merge_files(file_Anfang_3, file_Ende_3, 2000, 2010)\n",
    "merge_files(file_Anfang_4, file_Ende_4, 2010, 2021)"
   ]
  }
 ],
 "metadata": {
  "kernelspec": {
   "display_name": "Python 3 (ipykernel)",
   "language": "python",
   "name": "python3"
  },
  "language_info": {
   "codemirror_mode": {
    "name": "ipython",
    "version": 3
   },
   "file_extension": ".py",
   "mimetype": "text/x-python",
   "name": "python",
   "nbconvert_exporter": "python",
   "pygments_lexer": "ipython3",
   "version": "3.7.15"
  }
 },
 "nbformat": 4,
 "nbformat_minor": 4
}
